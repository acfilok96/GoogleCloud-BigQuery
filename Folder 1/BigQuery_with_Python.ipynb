{
 "cells": [
  {
   "cell_type": "code",
   "execution_count": null,
   "metadata": {
    "id": "kuNAz5n4aD4P"
   },
   "outputs": [],
   "source": [
    "from google.colab import auth\n",
    "auth.authenticate_user()\n",
    "print('Authenticated')"
   ]
  },
  {
   "cell_type": "code",
   "execution_count": null,
   "metadata": {
    "id": "_9ZU0Di9anW5"
   },
   "outputs": [],
   "source": [
    "project_id = 'YOUR_PROJECT_NAME'"
   ]
  },
  {
   "cell_type": "code",
   "execution_count": null,
   "metadata": {
    "id": "J4zNByOJaSbA"
   },
   "outputs": [],
   "source": [
    "from google.cloud import bigquery\n"
   ]
  },
  {
   "cell_type": "code",
   "execution_count": null,
   "metadata": {
    "id": "3l3AR4mTbBgm"
   },
   "outputs": [],
   "source": [
    "client = bigquery.Client(project=project_id)"
   ]
  },
  {
   "cell_type": "code",
   "execution_count": null,
   "metadata": {
    "colab": {
     "base_uri": "https://localhost:8080/"
    },
    "id": "Ckb0EXWpbCLF",
    "outputId": "bdca4854-eb64-44f8-ff37-4ac9da021cea"
   },
   "outputs": [
    {
     "data": {
      "text/plain": [
       "<google.cloud.bigquery.client.Client at 0x7ff69bc96950>"
      ]
     },
     "execution_count": 9,
     "metadata": {},
     "output_type": "execute_result"
    }
   ],
   "source": [
    "client"
   ]
  },
  {
   "cell_type": "code",
   "execution_count": null,
   "metadata": {
    "id": "Oar740dIbDDs"
   },
   "outputs": [],
   "source": [
    "row_count = client.query('''\n",
    "  SELECT \n",
    "    COUNT(*) as total\n",
    "  FROM `bigquery-public-data.samples.gsod`''')"
   ]
  },
  {
   "cell_type": "code",
   "execution_count": null,
   "metadata": {
    "id": "v59pXPw3bQtL"
   },
   "outputs": [],
   "source": [
    "row_count"
   ]
  },
  {
   "cell_type": "code",
   "execution_count": null,
   "metadata": {
    "id": "RKMwg2MYMaNx"
   },
   "outputs": [],
   "source": [
    "row_count.result()"
   ]
  },
  {
   "cell_type": "code",
   "execution_count": null,
   "metadata": {
    "id": "KFyfTCMNMcD3"
   },
   "outputs": [],
   "source": [
    "for r in row_count.results():\n",
    "    print(r)\n"
   ]
  },
  {
   "cell_type": "code",
   "execution_count": null,
   "metadata": {
    "id": "3KU9QJbBMgWd"
   },
   "outputs": [],
   "source": [
    "df = rowcount.to_dataframe()"
   ]
  },
  {
   "cell_type": "code",
   "execution_count": null,
   "metadata": {
    "id": "37vqBJvOMuOz"
   },
   "outputs": [],
   "source": [
    "df"
   ]
  },
  {
   "cell_type": "code",
   "execution_count": null,
   "metadata": {
    "id": "Ih6yLqUEMuoo"
   },
   "outputs": [],
   "source": [
    "stations = client.query('''\n",
    "SELECT\n",
    "    station_id, name, capacity, is_renting\n",
    "FROM \n",
    "    `YOUR_PROJECT_NAME.nyc_citi_bike_trips.citibike_stations`''')"
   ]
  },
  {
   "cell_type": "code",
   "execution_count": null,
   "metadata": {
    "id": "q-FIi5b1My9n"
   },
   "outputs": [],
   "source": [
    "stations"
   ]
  },
  {
   "cell_type": "code",
   "execution_count": null,
   "metadata": {
    "id": "SC5iWZ1WNY8z"
   },
   "outputs": [],
   "source": [
    "stations.result()"
   ]
  },
  {
   "cell_type": "code",
   "execution_count": null,
   "metadata": {
    "id": "Aig-S1hwNaPa"
   },
   "outputs": [],
   "source": [
    "for r in statiosn.result():\n",
    "  print(r)"
   ]
  },
  {
   "cell_type": "code",
   "execution_count": null,
   "metadata": {
    "id": "BYWVNQNNNfXg"
   },
   "outputs": [],
   "source": [
    "stations_df = stations.to_dataframe()"
   ]
  },
  {
   "cell_type": "code",
   "execution_count": null,
   "metadata": {
    "id": "GsKXwxkFNjLh"
   },
   "outputs": [],
   "source": [
    "stations_df"
   ]
  },
  {
   "cell_type": "code",
   "execution_count": null,
   "metadata": {
    "id": "PRR15ijgNkDO"
   },
   "outputs": [],
   "source": [
    "stations_df.head()"
   ]
  },
  {
   "cell_type": "code",
   "execution_count": null,
   "metadata": {
    "id": "XlBtZ2vUNoSl"
   },
   "outputs": [],
   "source": [
    "stations_df.tail()"
   ]
  },
  {
   "cell_type": "code",
   "execution_count": null,
   "metadata": {
    "id": "FW0VACyHNprZ"
   },
   "outputs": [],
   "source": [
    "stations_df.describe()"
   ]
  }
 ],
 "metadata": {
  "colab": {
   "name": "Copy of BigQuery with Python",
   "provenance": []
  },
  "kernelspec": {
   "display_name": "Python 3 (ipykernel)",
   "language": "python",
   "name": "python3"
  },
  "language_info": {
   "codemirror_mode": {
    "name": "ipython",
    "version": 3
   },
   "file_extension": ".py",
   "mimetype": "text/x-python",
   "name": "python",
   "nbconvert_exporter": "python",
   "pygments_lexer": "ipython3",
   "version": "3.11.3"
  }
 },
 "nbformat": 4,
 "nbformat_minor": 1
}
