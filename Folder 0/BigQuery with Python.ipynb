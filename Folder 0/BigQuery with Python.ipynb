{
 "cells": [
  {
   "cell_type": "code",
   "execution_count": 14,
   "id": "6fecd89a",
   "metadata": {},
   "outputs": [],
   "source": [
    "# !pip install google.colab"
   ]
  },
  {
   "cell_type": "code",
   "execution_count": 15,
   "id": "87989c1a",
   "metadata": {},
   "outputs": [],
   "source": [
    "# from google.colab import auth\n",
    "# auth.authenticate_user()\n",
    "# print(\"Authenticated\")"
   ]
  },
  {
   "cell_type": "code",
   "execution_count": 16,
   "id": "32a137e3",
   "metadata": {},
   "outputs": [],
   "source": [
    "# projected_id = \"valiant-complex-346818\""
   ]
  },
  {
   "cell_type": "code",
   "execution_count": 17,
   "id": "8e7a6742",
   "metadata": {},
   "outputs": [],
   "source": [
    "# from google.colab import bigquery"
   ]
  },
  {
   "cell_type": "code",
   "execution_count": 18,
   "id": "0160e892",
   "metadata": {},
   "outputs": [],
   "source": [
    "# client = bigquery.Client(project=project_id)"
   ]
  },
  {
   "cell_type": "code",
   "execution_count": 19,
   "id": "48ef4546",
   "metadata": {},
   "outputs": [],
   "source": [
    "# row_count = client.query('''\n",
    "#     select \n",
    "#     count(*) as station_cnt\n",
    "#     from\n",
    "#     `valiant-complex-346818.nyc_citi_bike_trips.citibike_stations`''')"
   ]
  },
  {
   "cell_type": "code",
   "execution_count": 20,
   "id": "d40ce5fe",
   "metadata": {},
   "outputs": [],
   "source": [
    "# row_count"
   ]
  },
  {
   "cell_type": "code",
   "execution_count": 21,
   "id": "80f4561a",
   "metadata": {},
   "outputs": [],
   "source": [
    "# row_count.result()"
   ]
  },
  {
   "cell_type": "code",
   "execution_count": 22,
   "id": "468d2943",
   "metadata": {},
   "outputs": [],
   "source": [
    "# for r in row_count.result():\n",
    "#     print(r)"
   ]
  },
  {
   "cell_type": "code",
   "execution_count": 23,
   "id": "56f26cc2",
   "metadata": {},
   "outputs": [],
   "source": [
    "# row_count.to_dateframe()"
   ]
  },
  {
   "cell_type": "code",
   "execution_count": 24,
   "id": "dd6708f7",
   "metadata": {},
   "outputs": [],
   "source": [
    "# df = row_count.to_dataframe()"
   ]
  },
  {
   "cell_type": "code",
   "execution_count": 25,
   "id": "b8519005",
   "metadata": {},
   "outputs": [],
   "source": [
    "# df"
   ]
  },
  {
   "cell_type": "code",
   "execution_count": 26,
   "id": "035ade75",
   "metadata": {},
   "outputs": [],
   "source": [
    "# stations = client.query('''\n",
    "#     select \n",
    "#     station_id, name, capacity, is_renting\n",
    "#     from\n",
    "#     `valiant-complex-346818.nyc_citi_bike_trips.citibike_stations`''')"
   ]
  },
  {
   "cell_type": "code",
   "execution_count": 27,
   "id": "97d2c3ab",
   "metadata": {},
   "outputs": [],
   "source": [
    "# stations"
   ]
  },
  {
   "cell_type": "code",
   "execution_count": 28,
   "id": "debfe70d",
   "metadata": {},
   "outputs": [],
   "source": [
    "# stations.result()"
   ]
  },
  {
   "cell_type": "code",
   "execution_count": 29,
   "id": "75e1e0c7",
   "metadata": {},
   "outputs": [],
   "source": [
    "# for r in stations.result():\n",
    "#     print(r)"
   ]
  },
  {
   "cell_type": "code",
   "execution_count": 30,
   "id": "693ce539",
   "metadata": {},
   "outputs": [],
   "source": [
    "# stations_df = stations.to_dataframe()"
   ]
  },
  {
   "cell_type": "code",
   "execution_count": 31,
   "id": "9a2f3441",
   "metadata": {},
   "outputs": [],
   "source": [
    "# stations_df"
   ]
  },
  {
   "cell_type": "code",
   "execution_count": 32,
   "id": "748e9ddc",
   "metadata": {},
   "outputs": [],
   "source": [
    "# stations_df.head()"
   ]
  },
  {
   "cell_type": "code",
   "execution_count": 33,
   "id": "96ea3eaf",
   "metadata": {},
   "outputs": [],
   "source": [
    "# stations_df.tail()"
   ]
  },
  {
   "cell_type": "code",
   "execution_count": 34,
   "id": "b8461f63",
   "metadata": {},
   "outputs": [],
   "source": [
    "# stations_df.describe()"
   ]
  },
  {
   "cell_type": "code",
   "execution_count": null,
   "id": "6da0ec73",
   "metadata": {},
   "outputs": [],
   "source": []
  }
 ],
 "metadata": {
  "kernelspec": {
   "display_name": "Python 3 (ipykernel)",
   "language": "python",
   "name": "python3"
  },
  "language_info": {
   "codemirror_mode": {
    "name": "ipython",
    "version": 3
   },
   "file_extension": ".py",
   "mimetype": "text/x-python",
   "name": "python",
   "nbconvert_exporter": "python",
   "pygments_lexer": "ipython3",
   "version": "3.9.12"
  }
 },
 "nbformat": 4,
 "nbformat_minor": 5
}
